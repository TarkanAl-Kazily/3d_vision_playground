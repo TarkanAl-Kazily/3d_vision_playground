{
 "cells": [
  {
   "cell_type": "markdown",
   "metadata": {},
   "source": [
    "# Wireframe Detection with LCNN\n",
    "\n",
    "This notebook guides us through using LCNN, finds common usage patterns in the output data, visualizes the found features, and prototypes the needed data structures to effectively use this tool.\n",
    "\n",
    "## Dependencies\n",
    "\n",
    "First follow Yichao's guide to setup your conda environment.\n",
    "\n",
    "```\n",
    "conda create -y -n lcnn\n",
    "source activate lcnn\n",
    "# Replace cudatoolkit=10.1 with your CUDA version: https://pytorch.org/\n",
    "conda install -y pytorch cudatoolkit=10.1 -c pytorch\n",
    "conda install -y tensorboardx -c conda-forge\n",
    "conda install -y pyyaml docopt matplotlib scikit-image opencv\n",
    "# NEW: Graph library\n",
    "conda install -c conda-forge python-igraph\n",
    "```\n",
    "\n",
    "Then you can create a Jupyter kernel by following these steps:\n",
    "\n",
    "```\n",
    "conda install ipykernel\n",
    "conda deactivate\n",
    "conda install -c conda-forge nb_conda_kernels\n",
    "```\n",
    "\n",
    "Then you should have a Python kernel called \"Python \\[conda env:lcnn\\]\" available in Jupyter Lab/Notebook. \n",
    "\n",
    "## Usage instructions\n",
    "\n",
    "You'll first need the pretrained LCNN model, which is available from their Drive link here:\n",
    "\n",
    "[Pretrained LCNN model](https://drive.google.com/file/d/1NvZkEqWNUBAfuhFPNGiCItjy4iU0UOy2)\n",
    "\n",
    "The model should go in the `data/` directory with the `.pth.tar` extension, but feel free to rename it to a more logical filename.\n",
    "\n",
    "You'll also need the [wireframe.yaml](https://github.com/zhou13/lcnn/blob/master/config/wireframe.yaml) file, also in your `data/` directory.\n",
    "\n",
    "Finally, make sure you have your images available to load."
   ]
  },
  {
   "cell_type": "code",
   "execution_count": null,
   "metadata": {},
   "outputs": [],
   "source": [
    "from wireframe import Wireframe\n",
    "import utils"
   ]
  },
  {
   "cell_type": "markdown",
   "metadata": {},
   "source": [
    "# Modify the following variables based on what you want the code to do"
   ]
  },
  {
   "cell_type": "code",
   "execution_count": null,
   "metadata": {},
   "outputs": [],
   "source": [
    "# Workspace constants\n",
    "\n",
    "# Filepaths\n",
    "config_file = utils.data(\"wireframe.yaml\")\n",
    "model_file = utils.data(\"pretrained_lcnn.pth.tar\")\n",
    "\n",
    "# Determines if CPU (\"\") or GPU (\"0\", \"1\",...) will be used\n",
    "gpu_devices = \"\"\n"
   ]
  },
  {
   "cell_type": "code",
   "execution_count": null,
   "metadata": {},
   "outputs": [],
   "source": [
    "wireframe = Wireframe(config_file, model_file, gpu_devices)\n",
    "\n",
    "if not wireframe.setup():\n",
    "    print(wireframe.error)"
   ]
  },
  {
   "cell_type": "code",
   "execution_count": null,
   "metadata": {},
   "outputs": [],
   "source": [
    "images = []\n",
    "\n",
    "#images.append(utils.data(\"PurnurOffice/IMG_0861.jpg\"))\n",
    "#images.append(utils.data(\"PurnurOffice/IMG_0862.jpg\"))\n",
    "#images.append(utils.data(\"PurnurOffice/IMG_0863.jpg\"))\n",
    "\n",
    "for i in images:\n",
    "    print(i)\n",
    "    wireframe.visualize(i)"
   ]
  },
  {
   "cell_type": "code",
   "execution_count": null,
   "metadata": {},
   "outputs": [],
   "source": [
    "rec = wireframe.parse(utils.data(\"PurnurOffice/IMG_0861.jpg\"))"
   ]
  },
  {
   "cell_type": "code",
   "execution_count": null,
   "metadata": {},
   "outputs": [],
   "source": [
    "print(rec.preds.keys())\n",
    "\n",
    "for key in rec.preds.keys():\n",
    "    print(f\"{key} has type {type(rec.preds[key])} and shape {rec.preds[key].shape}\")\n",
    "    \n",
    "print(rec.num_lines)\n",
    "\n",
    "lines = rec.lines()\n",
    "        \n",
    "print(type(rec.lines()))\n",
    "\n",
    "print(rec.num_juncs)\n",
    "print(type(rec.juncs()))\n",
    "print(rec.juncs()[0:3])\n",
    "print(rec.juncs().shape)\n"
   ]
  },
  {
   "cell_type": "code",
   "execution_count": null,
   "metadata": {},
   "outputs": [],
   "source": []
  }
 ],
 "metadata": {
  "kernelspec": {
   "display_name": "Python [conda env:lcnn]",
   "language": "python",
   "name": "conda-env-lcnn-py"
  },
  "language_info": {
   "codemirror_mode": {
    "name": "ipython",
    "version": 3
   },
   "file_extension": ".py",
   "mimetype": "text/x-python",
   "name": "python",
   "nbconvert_exporter": "python",
   "pygments_lexer": "ipython3",
   "version": "3.7.7"
  }
 },
 "nbformat": 4,
 "nbformat_minor": 4
}
