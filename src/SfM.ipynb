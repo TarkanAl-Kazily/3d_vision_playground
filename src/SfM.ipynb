{
 "cells": [
  {
   "cell_type": "markdown",
   "metadata": {},
   "source": [
    "## Notebook to test SfM pipeline\n",
    "\n",
    "1. The repo is already a git submodule so just git submodule update --init --recursive. \n",
    "2. Follow the other steps to get the dependencies here: https://www.opensfm.org/docs/building.html, use this file for installing dependencies https://github.com/paulinus/opensfm-docker-base/blob/master/Dockerfile.python3.\n",
    "    1. Heads up you'll want to do the pip install from within the lcnn conda environment (or another one).\n",
    "3. To test your install run:\n",
    "    1. bin/opensfm_run_all data/berlin from the open_sfm directory\n",
    "    2. python -m http.server and hit the link here: http://localhost:8000/viewer/reconstruction.html#file=/data/berlin/reconstruction.meshed.json\n",
    "        1. Make sure you run python -m http.server from the OpenSfM directory"
   ]
  },
  {
   "cell_type": "code",
   "execution_count": null,
   "metadata": {},
   "outputs": [],
   "source": [
    "import sys, cv2, os\n",
    "import numpy as np\n",
    "import matplotlib.pyplot as plt\n",
    "# from yaml import load, dump\n",
    "# try:\n",
    "#     from yaml import CLoader as Loader, CDumper as Dumper\n",
    "# except ImportError:\n",
    "#     from yaml import Loader, Dumper\n",
    "import yaml\n",
    "sys.path.append('../OpenSfM')\n",
    "from opensfm import features, config\n",
    "from sfm import utils as sfm_util\n",
    "import importlib\n",
    "import utils"
   ]
  },
  {
   "cell_type": "markdown",
   "metadata": {},
   "source": [
    "### To test your own images \n",
    "\n",
    "Create a project directory, within which make sure there is a folder named 'images/'\n",
    "\n",
    "1. run 'python video_converter.py {video} --n {save_every_n_images} --outputdir {path to images/ directory}'\n",
    "2. copy the config.yaml from OpenSfM/data/berlin to your {filename} directory\n",
    "\n",
    "### Load Configuration\n",
    "\n",
    "The first step is to load the config which will contain info on what features to use, how many etc.\n",
    "\n",
    "It's probably best to just do these from the command line, rather than using Jupyter integration (my jupyter setup doesn't run from within my LCNN environment, I instead include an LCNN kernel for jupyter to run python with)."
   ]
  },
  {
   "cell_type": "code",
   "execution_count": null,
   "metadata": {},
   "outputs": [],
   "source": [
    "file_path = utils.data(\"door_closed/\") #directory containing images and config file\n",
    "conf = config.load_config(os.path.join(file_path, \"config.yaml\"))"
   ]
  },
  {
   "cell_type": "markdown",
   "metadata": {},
   "source": [
    "Extracts metadata from images (not necessary and doesn't work with current video extraction process).\n",
    "```\n",
    "$ ../OpenSfM/bin/opensfm extract_metadata $SFM_DATA_DIR\n",
    "```\n"
   ]
  },
  {
   "cell_type": "markdown",
   "metadata": {},
   "source": [
    "Extracts features from every image\n",
    "```\n",
    "$ ../OpenSfM/bin/opensfm detect_features $SFM_DATA_DIR\n",
    "```"
   ]
  },
  {
   "cell_type": "code",
   "execution_count": null,
   "metadata": {},
   "outputs": [],
   "source": [
    "importlib.reload(sfm_util)\n",
    "\"\"\"An Example of How to Load Pre-Detected features from the npz generated from:\n",
    "                                    ../OpenSfM/bin/opensfm detect_features ../data/lounge\"\"\"\n",
    "for i, filename in enumerate(os.listdir(os.path.join(file_path, \"features\"))):\n",
    "    if i % 2 == 0: # display every 2 images\n",
    "        sfm_util.display_features(file_path, filename, conf, 50)\n"
   ]
  },
  {
   "cell_type": "code",
   "execution_count": null,
   "metadata": {},
   "outputs": [],
   "source": [
    "\"\"\"An example of how to add custom feature points to the npz file containing orb features\"\"\"\n",
    "importlib.reload(sfm_util)\n",
    "\n",
    "test_insert = False\n",
    "\n",
    "if test_insert:\n",
    "\n",
    "    feats_path = file_path+\"features/img_0.png.features.npz\"\n",
    "    fts = features.load_features(feats_path, conf)\n",
    "    print(\"Before Addition {}\".format(fts[0].shape))\n",
    "\n",
    "    # Generate 200 random points with descriptors and colors\n",
    "    new_ft_pts = np.random.randint(0, 1080, (200, 4)) # 200 new random points\n",
    "    new_ft_desc = np.random.randint(0, 255, (200, 32)) \n",
    "    new_ft_col = np.random.randint(0, 255, (200, 3)) \n",
    "\n",
    "    #Insert the features\n",
    "    # sfm_util.insert_features((new_ft_pts, new_ft_desc, new_ft_col), feats_path, conf)\n",
    "\n",
    "    # Check they were added\n",
    "    fts = features.load_features(file_path+\"features/img_0.png.features.npz\", conf)\n",
    "    print(\"After Addition: {}\".format(fts[0].shape))\n",
    "    assert(np.allclose(fts[0][-200:], new_ft_pts))"
   ]
  },
  {
   "cell_type": "markdown",
   "metadata": {},
   "source": [
    "Matches features, creates tracks, reconstructs and produces the final mesh file\n",
    "```\n",
    "$ ../OpenSfM/bin/opensfm match_features  $SFM_DATA_DIR\n",
    "$ ../OpenSfM/bin/opensfm create_tracks $SFM_DATA_DIR\n",
    "$ ../OpenSfM/bin/opensfm reconstruct $SFM_DATA_DIR\n",
    "$ ../OpenSfM/bin/opensfm mesh $SFM_DATA_DIR\n",
    "```"
   ]
  },
  {
   "cell_type": "markdown",
   "metadata": {},
   "source": [
    "### Viewing the mesh. \n",
    "#### Note: change ../data/lounge to the directory you are working from\n",
    "\n",
    "python -m http.server (from main git folder) and hit the link here: http://localhost:8000/OpenSfM/viewer/reconstruction.html#file=/data/lounge/reconstruction.meshed.json\n",
    "\n",
    "Also, coming next is the extraction of 3D info for the points it's all stored in reconstruction.json.\n",
    "One problem we may run into is the junction descriptors not being matched between frames?? Then we will never get the 3D info. Also not entirely sure how we will know which points correspond to our junction info. Kidding this is below.\n",
    "\n",
    "#### Is the point ID in the matched point thing is the index of the points in the initial list of image features? No I think it is the track_id that corresponds to that point. \n",
    "\n",
    "Looks like I could check which points correspond to 3D features in each image by checking tracks.csv.\n",
    "\n",
    "The values of the columns are indicated below (where x, y are in normalized image coordinates). ? could be angle or size of feature.\n",
    "\n",
    "image, track_id, feature_id, x, y, z, r, g, b"
   ]
  },
  {
   "cell_type": "code",
   "execution_count": null,
   "metadata": {},
   "outputs": [],
   "source": [
    "importlib.reload(sfm_util)\n",
    "poses = sfm_util.get_camera_poses(file_path) # uses their pose class to get the homogeneous transform\n",
    "for img in poses.keys():\n",
    "    print(\"{} camera pose\\n{}\".format(img, poses[img])) # (R|t) format"
   ]
  },
  {
   "cell_type": "code",
   "execution_count": null,
   "metadata": {},
   "outputs": [],
   "source": [
    "feats = sfm_util.load_3d_features(file_path)\n",
    "print(feats.keys())\n",
    "print(feats['img_0.png'].keys())"
   ]
  },
  {
   "cell_type": "markdown",
   "metadata": {},
   "source": [
    "%%bash \n",
    "../OpenSfM/bin/opensfm undistort $SFM_DATA_DIR"
   ]
  },
  {
   "cell_type": "markdown",
   "metadata": {},
   "source": [
    "%%bash \n",
    "../OpenSfM/bin/opensfm compute_depthmaps $SFM_DATA_DIR"
   ]
  },
  {
   "cell_type": "markdown",
   "metadata": {},
   "source": [
    "### Viewing PLY Files\n",
    "sudo apt-get install meshlab -y\n",
    "\n",
    "done"
   ]
  },
  {
   "cell_type": "markdown",
   "metadata": {},
   "source": [
    "```bash \n",
    "$ ../OpenSfM/bin/opensfm export_ply {proj_dir}\n",
    "```"
   ]
  },
  {
   "cell_type": "code",
   "execution_count": null,
   "metadata": {},
   "outputs": [],
   "source": []
  }
 ],
 "metadata": {
  "kernelspec": {
   "display_name": "Python [conda env:lcnn]",
   "language": "python",
   "name": "conda-env-lcnn-py"
  },
  "language_info": {
   "codemirror_mode": {
    "name": "ipython",
    "version": 3
   },
   "file_extension": ".py",
   "mimetype": "text/x-python",
   "name": "python",
   "nbconvert_exporter": "python",
   "pygments_lexer": "ipython3",
   "version": "3.7.7"
  }
 },
 "nbformat": 4,
 "nbformat_minor": 4
}
