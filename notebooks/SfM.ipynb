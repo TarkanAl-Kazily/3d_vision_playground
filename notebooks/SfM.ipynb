{
 "cells": [
  {
   "cell_type": "markdown",
   "metadata": {},
   "source": [
    "## Notebook to test SfM pipeline\n",
    "\n",
    "1. The repo is already a git submodule so just git submodule update --init --recursive. \n",
    "2. Follow the other steps to get the dependencies here: https://www.opensfm.org/docs/building.html, use this file for installing dependencies https://github.com/paulinus/opensfm-docker-base/blob/master/Dockerfile.python3.\n",
    "    1. Heads up you'll want to do the pip install from within the lcnn conda environment (or another one).\n",
    "3. To test your install run:\n",
    "    1. bin/opensfm_run_all data/berlin from the open_sfm directory\n",
    "    2. python -m http.server and hit the link here: http://localhost:8000/viewer/reconstruction.html#file=/data/berlin/reconstruction.meshed.json"
   ]
  },
  {
   "cell_type": "code",
   "execution_count": 22,
   "metadata": {},
   "outputs": [],
   "source": [
    "import sys, cv2"
   ]
  },
  {
   "cell_type": "markdown",
   "metadata": {},
   "source": [
    "To test your own images \n",
    "\n",
    "1. run 'python video_converter.py --filename {filename} --n {save_every_n_images} --path {path_to_video}'\n",
    "2. copy the config.yaml from OpenSfM/data/berlin to your data directory"
   ]
  },
  {
   "cell_type": "code",
   "execution_count": 23,
   "metadata": {},
   "outputs": [
    {
     "name": "stderr",
     "output_type": "stream",
     "text": [
      "2020-04-15 17:35:36,646 INFO: Loading existing EXIF for img_0.png\n",
      "2020-04-15 17:35:36,646 INFO: Loading existing EXIF for img_2.png\n",
      "2020-04-15 17:35:36,646 INFO: Loading existing EXIF for img_5.png\n",
      "2020-04-15 17:35:36,646 INFO: Loading existing EXIF for img_4.png\n",
      "2020-04-15 17:35:36,646 INFO: Loading existing EXIF for img_3.png\n",
      "2020-04-15 17:35:36,646 INFO: Loading existing EXIF for img_7.png\n",
      "2020-04-15 17:35:36,646 INFO: Loading existing EXIF for img_8.png\n",
      "2020-04-15 17:35:36,646 INFO: Loading existing EXIF for img_1.png\n",
      "2020-04-15 17:35:36,647 INFO: Loading existing EXIF for img_6.png\n"
     ]
    }
   ],
   "source": [
    "%%bash \n",
    "../OpenSfM/bin/opensfm extract_metadata ../data/lounge"
   ]
  },
  {
   "cell_type": "code",
   "execution_count": 24,
   "metadata": {},
   "outputs": [
    {
     "name": "stderr",
     "output_type": "stream",
     "text": [
      "2020-04-15 17:35:39,506 INFO: Skip recomputing ROOT_HAHOG features for image img_4.png\n",
      "2020-04-15 17:35:39,506 INFO: Skip recomputing ROOT_HAHOG features for image img_0.png\n",
      "2020-04-15 17:35:39,528 INFO: Skip recomputing ROOT_HAHOG features for image img_6.png\n",
      "2020-04-15 17:35:39,538 INFO: Skip recomputing ROOT_HAHOG features for image img_3.png\n",
      "2020-04-15 17:35:39,561 INFO: Skip recomputing ROOT_HAHOG features for image img_7.png\n",
      "2020-04-15 17:35:39,569 INFO: Skip recomputing ROOT_HAHOG features for image img_5.png\n",
      "2020-04-15 17:35:39,587 INFO: Skip recomputing ROOT_HAHOG features for image img_2.png\n",
      "2020-04-15 17:35:39,617 INFO: Skip recomputing ROOT_HAHOG features for image img_8.png\n",
      "2020-04-15 17:35:39,621 INFO: Skip recomputing ROOT_HAHOG features for image img_1.png\n"
     ]
    }
   ],
   "source": [
    "%%bash \n",
    "../OpenSfM/bin/opensfm detect_features ../data/lounge"
   ]
  },
  {
   "cell_type": "code",
   "execution_count": null,
   "metadata": {},
   "outputs": [],
   "source": []
  }
 ],
 "metadata": {
  "kernelspec": {
   "display_name": "Python [conda env:lcnn]",
   "language": "python",
   "name": "conda-env-lcnn-py"
  },
  "language_info": {
   "codemirror_mode": {
    "name": "ipython",
    "version": 3
   },
   "file_extension": ".py",
   "mimetype": "text/x-python",
   "name": "python",
   "nbconvert_exporter": "python",
   "pygments_lexer": "ipython3",
   "version": "3.7.7"
  }
 },
 "nbformat": 4,
 "nbformat_minor": 4
}
